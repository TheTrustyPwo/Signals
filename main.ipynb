{
 "cells": [
  {
   "cell_type": "code",
   "execution_count": 1,
   "id": "initial_id",
   "metadata": {
    "collapsed": true,
    "ExecuteTime": {
     "end_time": "2025-07-15T14:26:25.489667Z",
     "start_time": "2025-07-15T14:26:25.254977Z"
    }
   },
   "outputs": [],
   "source": [
    "import numpy as np\n",
    "import matplotlib.pyplot as plt"
   ]
  },
  {
   "cell_type": "code",
   "outputs": [
    {
     "data": {
      "text/plain": "<Figure size 1000x400 with 1 Axes>",
      "image/png": "[encoded data removed]"
     },
     "metadata": {},
     "output_type": "display_data"
    }
   ],
   "source": [
    "bitrate = 1 # 1 bit a second\n",
    "fs = 1000 # sampling rate, 1000 times a second (for receiver?)\n",
    "samples_per_bit = fs / bitrate\n",
    "t = np.arange(0.0, 8.0, 1 / fs)\n",
    "\n",
    "data = np.array([0, 0, 1, 0, 1, 1, 0, 1])\n",
    "\n",
    "# BPSK: 0 -> 1, 1 -> -1\n",
    "symbols = 1 - 2 * data\n",
    "\n",
    "signal = np.repeat(symbols, samples_per_bit)\n",
    "\n",
    "plt.figure(figsize=(10, 4))\n",
    "plt.plot(t, signal, label=\"Received\")\n",
    "plt.xlabel(\"t / s\")\n",
    "plt.legend()\n",
    "plt.grid(True)\n",
    "plt.show()"
   ],
   "metadata": {
    "collapsed": false,
    "ExecuteTime": {
     "end_time": "2025-07-15T14:26:27.002097Z",
     "start_time": "2025-07-15T14:26:26.918150Z"
    }
   },
   "id": "fe1141867e2e14a2",
   "execution_count": 2
  },
  {
   "cell_type": "code",
   "outputs": [],
   "source": [
    "import numpy as np, sounddevice as sd, crcmod.predefined, time\n",
    "\n",
    "###############################################################################\n",
    "# USER-TUNABLE SETTINGS\n",
    "Baud      = 100             # symbols per second  ← Slower & steadier\n",
    "f0, f1    = 300, 1000    # mark / space freqs\n",
    "fs        = 48000          # audio sample rate\n",
    "amp       = 1.0             # 0‒1 loudness (raise for more volume!)\n",
    "tx_device = 3               # 🔧 YOUR speaker/output device index\n",
    "###############################################################################\n",
    "\n",
    "Tb = int(fs / Baud)         # samples per symbol\n",
    "preamble  = [1,1,1,0,0,0,1,0,0,1,0] \n",
    "\n",
    "crc16 = crcmod.predefined.mkCrcFun('x25')\n",
    "\n",
    "def bits_to_wave(bits):\n",
    "    t     = np.arange(len(bits) * Tb) / fs\n",
    "    freqs = np.where(np.repeat(bits, Tb) == 0, f0, f1)\n",
    "    wave  = amp * np.sin(2*np.pi*freqs * t)\n",
    "    return wave.astype(np.float32)\n",
    "\n",
    "def build_frame(payload: bytes) -> np.ndarray:\n",
    "    pkt  = b'\\x2A\\x2A' + payload + crc16(payload).to_bytes(2, 'big')\n",
    "    bits = np.unpackbits(np.frombuffer(pkt, dtype=np.uint8))\n",
    "    frame_bits = np.concatenate((preamble, bits))\n",
    "    return bits_to_wave(frame_bits)\n",
    "\n",
    "def send(payload: bytes):\n",
    "    wave = build_frame(payload)\n",
    "    sd.play(wave, fs, device=tx_device, blocking=True)\n",
    "\n",
    "text = \"u r dum\"\n",
    "send(text.encode())"
   ],
   "metadata": {
    "collapsed": false,
    "ExecuteTime": {
     "end_time": "2025-07-15T16:52:43.913115Z",
     "start_time": "2025-07-15T16:52:42.829892Z"
    }
   },
   "id": "dab77da58f748a7f",
   "execution_count": 89
  },
  {
   "cell_type": "code",
   "outputs": [
    {
     "data": {
      "text/plain": "21"
     },
     "execution_count": 74,
     "metadata": {},
     "output_type": "execute_result"
    }
   ],
   "source": [
    "len(\"epepep i am a wompy!!\")"
   ],
   "metadata": {
    "collapsed": false,
    "ExecuteTime": {
     "end_time": "2025-07-15T16:46:50.368274Z",
     "start_time": "2025-07-15T16:46:50.352948Z"
    }
   },
   "id": "4ca28913159ae805",
   "execution_count": 74
  },
  {
   "cell_type": "code",
   "outputs": [],
   "source": [],
   "metadata": {
    "collapsed": false
   },
   "id": "7eca4c1217c2c3c0"
  }
 ],
 "metadata": {
  "kernelspec": {
   "display_name": "Python 3",
   "language": "python",
   "name": "python3"
  },
  "language_info": {
   "codemirror_mode": {
    "name": "ipython",
    "version": 2
   },
   "file_extension": ".py",
   "mimetype": "text/x-python",
   "name": "python",
   "nbconvert_exporter": "python",
   "pygments_lexer": "ipython2",
   "version": "2.7.6"
  }
 },
 "nbformat": 4,
 "nbformat_minor": 5
}
